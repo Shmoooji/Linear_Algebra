{
 "cells": [
  {
   "cell_type": "markdown",
   "id": "32f507fb-18be-47bb-b63f-a9e9e72f8797",
   "metadata": {},
   "source": [
    "$\\textbf{Code Challenges}$\n",
    "\n",
    "1. Develop a python function from scratch that will find the determinants of any $n \\times n$ matrix.\n",
    "\n",
    "2. Develop a python function from scratch that will find both the eigenvectors and eigenvalues of any $n \\times n$ matrix.\n",
    "\n",
    "3. Test your functions from a randomly generated $n \\times n$ matrix."
   ]
  },
  {
   "cell_type": "code",
   "execution_count": 6,
   "id": "f30770d4-f13d-4443-8eab-d121a64125bf",
   "metadata": {},
   "outputs": [
    {
     "name": "stdout",
     "output_type": "stream",
     "text": [
      "Randomly generated matrix:\n",
      "[8, 7, 3]\n",
      "[4, 1, 10]\n",
      "[1, 4, 6]\n",
      "\n",
      "Determinant: -325\n",
      "\n",
      "Eigenvalues: [13.981071275304375, 18.319830202051957, 36.639660404108426]\n",
      "Eigenvectors:\n",
      "[[1.0, 0.0, 0.0], [0.0, 1.0, 0.0], [0.0, 0.0, 1.0]]\n"
     ]
    }
   ],
   "source": [
    "import random\n",
    "\n",
    "def determinant(matrix):\n",
    "    size = len(matrix)\n",
    "    \n",
    "    if size == 1:\n",
    "        return matrix[0][0]\n",
    "    \n",
    "    if size == 2:\n",
    "        return matrix[0][0] * matrix[1][1] - matrix[0][1] * matrix[1][0]\n",
    "    \n",
    "    det = 0\n",
    "    for i in range(size):\n",
    "        cofactor = (-1) ** i * matrix[0][i] * determinant([row[:i] + row[i + 1:] for row in matrix[1:]])\n",
    "        det += cofactor\n",
    "    \n",
    "    return det\n",
    "\n",
    "def dot_product(vec1, vec2):\n",
    "    return sum(x * y for x, y in zip(vec1, vec2))\n",
    "\n",
    "def normalize(vector):\n",
    "    magnitude = sum(x ** 2 for x in vector) ** 0.5\n",
    "    return [x / magnitude for x in vector]\n",
    "\n",
    "def matrix_vector_multiply(matrix, vector):\n",
    "    return [dot_product(row, vector) for row in matrix]\n",
    "\n",
    "def power_iteration(matrix, num_iterations=100):\n",
    "    size = len(matrix)\n",
    "    vector = [random.random() for _ in range(size)]\n",
    "    \n",
    "    for _ in range(num_iterations):\n",
    "        matrix_vector = matrix_vector_multiply(matrix, vector)\n",
    "        vector = normalize(matrix_vector)\n",
    "    \n",
    "    eigenvalue = dot_product(matrix_vector, vector)\n",
    "    return eigenvalue, vector\n",
    "\n",
    "def eigenvectors_and_values(matrix):\n",
    "    size = len(matrix)\n",
    "    \n",
    "    # Initialize an identity matrix\n",
    "    eigenvectors = [[1.0 if i == j else 0.0 for j in range(size)] for i in range(size)]\n",
    "    \n",
    "    eigenvalues = []\n",
    "    \n",
    "    for _ in range(size):\n",
    "        eigenvalue, eigenvector = power_iteration(matrix)\n",
    "        eigenvalues.append(eigenvalue)\n",
    "        \n",
    "        # Deflate the matrix\n",
    "        matrix = [[matrix[i][j] - eigenvalue * eigenvectors[i][j] for j in range(size)] for i in range(size)]\n",
    "    \n",
    "    return eigenvalues, eigenvectors\n",
    "\n",
    "random_matrix = [[random.randint(1, 10) for _ in range(3)] for _ in range(3)]\n",
    "\n",
    "print(\"Randomly generated matrix:\")\n",
    "for row in random_matrix:\n",
    "    print(row)\n",
    "\n",
    "print(\"\\nDeterminant:\", determinant(random_matrix))\n",
    "\n",
    "eigenvalues, eigenvectors = eigenvectors_and_values(random_matrix)\n",
    "print(\"\\nEigenvalues:\", eigenvalues)\n",
    "print(\"Eigenvectors:\")\n",
    "print(eigenvectors)"
   ]
  },
  {
   "cell_type": "code",
   "execution_count": null,
   "id": "9ffd76ed-ffcf-4f14-9dfd-efc0fc6d892b",
   "metadata": {},
   "outputs": [],
   "source": []
  }
 ],
 "metadata": {
  "kernelspec": {
   "display_name": "Python 3 (ipykernel)",
   "language": "python",
   "name": "python3"
  },
  "language_info": {
   "codemirror_mode": {
    "name": "ipython",
    "version": 3
   },
   "file_extension": ".py",
   "mimetype": "text/x-python",
   "name": "python",
   "nbconvert_exporter": "python",
   "pygments_lexer": "ipython3",
   "version": "3.11.5"
  }
 },
 "nbformat": 4,
 "nbformat_minor": 5
}
