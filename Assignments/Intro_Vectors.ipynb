{
 "cells": [
  {
   "cell_type": "markdown",
   "metadata": {},
   "source": [
    "1. Let $\\textbf{u} = (1, -2, 4)$ and $\\textbf{v} = (3,5,1)$ $\\textbf{w} = (2,1,-3)$\n"
   ]
  },
  {
   "cell_type": "markdown",
   "metadata": {},
   "source": [
    "### Manual\n"
   ]
  },
  {
   "cell_type": "markdown",
   "metadata": {},
   "source": [
    "a. $3\\textbf{u}-2\\textbf{v}$ \n",
    "\n",
    "\\begin{align}\n",
    "   \\textbf{3u}-\\textbf{2v} &= \\textbf{3}\n",
    "       \\begin{bmatrix}\n",
    "           1 \\\\\n",
    "           -2 \\\\\n",
    "           4\n",
    "        \\end{bmatrix} - \n",
    "        \\textbf{2}\n",
    "        \\begin{bmatrix}\n",
    "            3 \\\\\n",
    "            5 \\\\\n",
    "            1\n",
    "        \\end{bmatrix} =\n",
    "        \\begin{bmatrix}\n",
    "            3 \\\\\n",
    "            -6 \\\\\n",
    "            12 \n",
    "        \\end{bmatrix} -\n",
    "        \\begin{bmatrix}\n",
    "            6 \\\\\n",
    "            10 \\\\\n",
    "            2\n",
    "        \\end{bmatrix} =\n",
    "        \\begin{bmatrix}\n",
    "            -3 \\\\ \n",
    "            -16 \\\\\n",
    "            10\n",
    "        \\end{bmatrix}\n",
    "\\end{align}"
   ]
  },
  {
   "cell_type": "markdown",
   "metadata": {},
   "source": [
    "b. $5\\textbf{u}+3\\textbf{v}-4\\textbf{w}$ \n",
    "\n",
    "\\begin{align}\n",
    "    = \\textbf{5}\n",
    "    \\begin{bmatrix}\n",
    "        1 \\\\\n",
    "        -2 \\\\\n",
    "        4\n",
    "    \\end{bmatrix} +\n",
    "    \\textbf{3}\n",
    "    \\begin{bmatrix}\n",
    "        3 \\\\\n",
    "        5 \\\\ \n",
    "        1\n",
    "    \\end{bmatrix} -\n",
    "    \\textbf{4}\n",
    "    \\begin{bmatrix}\n",
    "        2 \\\\\n",
    "        1 \\\\ \n",
    "        -3\n",
    "    \\end{bmatrix}\n",
    "\\end{align}\n",
    "\n",
    "\\begin{align}\n",
    "    =\n",
    "    \\begin{bmatrix}\n",
    "        5 \\\\\n",
    "        -10 \\\\\n",
    "        20\n",
    "    \\end{bmatrix} +\n",
    "    \\begin{bmatrix}\n",
    "        9 \\\\\n",
    "        15 \\\\ \n",
    "        3\n",
    "    \\end{bmatrix} -\n",
    "    \\begin{bmatrix}\n",
    "        8 \\\\\n",
    "        4 \\\\ \n",
    "        -12\n",
    "    \\end{bmatrix}\n",
    "\\end{align}\n",
    "\n",
    "\\begin{align}\n",
    "    =\n",
    "    \\begin{bmatrix}\n",
    "        6 \\\\\n",
    "        1 \\\\\n",
    "        35\n",
    "    \\end{bmatrix}\n",
    "\\end{align}"
   ]
  },
  {
   "cell_type": "markdown",
   "metadata": {},
   "source": [
    "c. $\\textbf{u} \\cdotp \\textbf{v}$,$\\textbf{v} \\cdotp \\textbf{w}$, $\\textbf{u} \\cdotp \\textbf{w}$\n",
    "\n",
    "u $\\cdot$ v = 1(3) - 2(5) + 4(1) = -3 <br>\n",
    "v $\\cdot$ w = 3(2) + 5(1) + 1(-3) = 8 <br>\n",
    "u $\\cdot$ w = 1(2) - 2(1) + 4(-3) = -12 <br>"
   ]
  },
  {
   "cell_type": "markdown",
   "metadata": {},
   "source": [
    "d. $\\textbf{||u||},\\textbf{||v||},\\textbf{||w||}$ \n",
    "\n",
    "\\begin{align}\n",
    "    \\textbf{||u||} = \n",
    "    \\sqrt{u \\cdotp u} = \n",
    "    \\sqrt{(1)^2+(2)^2+(4)^2} =\n",
    "    \\sqrt{1 + 9 + 16} = \n",
    "    \\sqrt{21}\n",
    "\\end{align}\n",
    "\n",
    "\\begin{align}\n",
    "    \\textbf{||v||} = \n",
    "    \\sqrt{v \\cdotp v} = \n",
    "    \\sqrt{(3)^2+(5)^2+(1)^2} =\n",
    "    \\sqrt{9 + 25 + 1} = \n",
    "    \\sqrt{35}\n",
    "\\end{align}\n",
    "\n",
    "\\begin{align}\n",
    "    \\textbf{||w||} = \n",
    "    \\sqrt{w \\cdotp w} = \n",
    "    \\sqrt{(2)^2+(1)^2+(-3)^2} =\n",
    "    \\sqrt{4 + 1 + 9} = \n",
    "    \\sqrt{14}\n",
    "\\end{align}"
   ]
  },
  {
   "cell_type": "markdown",
   "metadata": {},
   "source": [
    "e. If $\\theta$ is the angle between $\\textbf{u}$  and   $\\textbf{v}$, find $\\cos{\\theta}$.<br>\n",
    "\n",
    "\\begin{align}\n",
    "    \\cos{\\theta} = \n",
    "    \\frac{\\textbf{u} \\cdotp \\textbf{v}}{||\\textbf{u}|| \\ ||\\textbf{v}||} =\n",
    "    \\frac{1(3)+-2(-5)+4(1)}{\\sqrt{(1)^2+(-2)^2+(4)^2}\\sqrt{(3)^2+(5)^2+(1)^2}} =\n",
    "    \\frac{-3}{\\sqrt{21}\\sqrt{35}}\n",
    "\\end{align}"
   ]
  },
  {
   "cell_type": "markdown",
   "metadata": {},
   "source": [
    "f. If $\\alpha$ is the angle between $\\textbf{v}$  and   $\\textbf{w}$, find $\\cos{\\alpha}$.<br>"
   ]
  },
  {
   "cell_type": "markdown",
   "metadata": {},
   "source": [
    "\\begin{align}\n",
    "    \\cos{\\alpha} = \n",
    "    \\frac{\\textbf{v} \\cdotp \\textbf{w}}{||\\textbf{v}|| \\ ||\\textbf{w}||} =\n",
    "    \\frac{3(2)+5(1)+1(-3)}{\\sqrt{(3)^2+(5)^2+(1)^2}\\sqrt{(2)^2+(1)^2+(-3)^2}} = \n",
    "    \\frac{8}{\\sqrt{35}\\sqrt{14}}\n",
    "\\end{align}"
   ]
  },
  {
   "cell_type": "markdown",
   "metadata": {},
   "source": [
    "g. If $\\beta$ is the angle between $\\textbf{u}$  and   $\\textbf{w}$, find $\\cos{\\beta}$.<br>\n",
    "\n",
    "\\begin{align}\n",
    "    \\cos{\\beta}=\n",
    "    \\frac{\\textbf{u} \\cdotp \\textbf{w}}{||\\textbf{u}|| \\ ||\\textbf{w}||} = \n",
    "    \\frac{1(2)+(-2)(1)+4(-3)}{ \\sqrt{(1)^2+(-2)^2+(4)^2}\\sqrt{(2)^2+(1)^2+(-3)^2}} = \n",
    "    \\frac{-12}{\\sqrt{21}\\sqrt{14}}\n",
    "\\end{align}"
   ]
  },
  {
   "cell_type": "markdown",
   "metadata": {},
   "source": [
    "h. Find $d(\\textbf{u},\\textbf{v})$\n",
    "\n",
    "\\begin{align}\n",
    "    d(\\textbf{u},\\textbf{v}) =\n",
    "    \\textbf{||u|| - ||v||} = \n",
    "    \\sqrt{(1 - 3)^2 + ((-2)-5)^2 + (4-1)^2} =\n",
    "    \\sqrt{4 + 49 + 9} = \n",
    "    \\sqrt{62}\n",
    "\\end{align}"
   ]
  },
  {
   "cell_type": "markdown",
   "metadata": {},
   "source": [
    "i. Find $d(\\textbf{w},\\textbf{v})$.<br>\n",
    "\\begin{align}\n",
    "    d(\\textbf{w},\\textbf{v}) = \n",
    "    ||\\textbf{w} - \\textbf{v}|| = \n",
    "    \\sqrt{(2-3)^2 + (1-5)^2 + ((-3)-1)^2} = \n",
    "    \\sqrt{1 + 16 + 16} = \n",
    "    \\sqrt{33}\n",
    "\\end{align}"
   ]
  },
  {
   "cell_type": "markdown",
   "metadata": {},
   "source": [
    "j. Find $d(\\textbf{u},\\textbf{w})$. <br>\n",
    "\\begin{align}\n",
    "    d(\\textbf{u},\\textbf{w}) = \n",
    "    ||\\textbf{u} - \\textbf{w}|| = \n",
    "    \\sqrt{(1-2)^2 + ((-2)-1)^2 + (4-(-3)^2} = \n",
    "    \\sqrt{1 + 9 + 49} = \n",
    "    \\sqrt{59}\n",
    "\\end{align}"
   ]
  },
  {
   "cell_type": "markdown",
   "metadata": {},
   "source": [
    "k. Find $proj(\\textbf{u},\\textbf{v})$.<br>\n",
    "\\begin{align}\n",
    "    proj(\\textbf{u},\\textbf{v}) =\n",
    "    \\frac{\\textbf{u} \\cdotp \\textbf{v}}{||\\textbf{v}||^2} \\textbf{v} =\n",
    "    \\frac{-3}{(\\sqrt{35})^2}(3,5,1) =\n",
    "    \\frac{-3}{35}(3,5,1) =\n",
    "    (\\frac{-9}{35},\\frac{-15}{35},\\frac{-3}{35})\n",
    "\\end{align}"
   ]
  },
  {
   "cell_type": "markdown",
   "metadata": {},
   "source": [
    "l. Find $proj(\\textbf{w},\\textbf{v})$.<br>\n",
    "\\begin{align}\n",
    "    proj(\\textbf{w},\\textbf{v}) =\n",
    "    \\frac{\\textbf{w} \\cdotp \\textbf{v}}{||\\textbf{v}||^2} \\textbf{v} =\n",
    "    \\frac{8}{(\\sqrt{35})^2}(3,5,1) =\n",
    "    \\frac{8}{35}(3,5,1) =\n",
    "    (\\frac{24}{35},\\frac{40}{35},\\frac{8}{35})\n",
    "\\end{align}"
   ]
  },
  {
   "cell_type": "markdown",
   "metadata": {},
   "source": [
    "m. Find $proj(\\textbf{u},\\textbf{w})$. <br> \n",
    "\\begin{align}\n",
    "    proj(\\textbf{u},\\textbf{w}) =\n",
    "    \\frac{\\textbf{u} \\cdotp \\textbf{w}}{||\\textbf{w}||^2} \\textbf{w} =\n",
    "    \\frac{-12}{(\\sqrt{14})^2}(2,1,-3) =\n",
    "    \\frac{-6}{7}(2,1,-3) =\n",
    "    (\\frac{-12}{7},\\frac{-6}{7},\\frac{18}{7})\n",
    "\\end{align}"
   ]
  },
  {
   "cell_type": "markdown",
   "metadata": {},
   "source": [
    "### Pythonic\n"
   ]
  },
  {
   "cell_type": "code",
   "execution_count": 3,
   "metadata": {},
   "outputs": [
    {
     "name": "stdout",
     "output_type": "stream",
     "text": [
      "a: [ -3 -16  10]\n",
      "b: [ 6  1 35]\n",
      "c: u.v =  -3\n",
      "c: u.w =  8\n",
      "c: v.w =  -12\n",
      "d: ||u||, ||v||, ||w|| =  4.58257569495584 ,  5.916079783099616 ,  3.7416573867739413\n",
      "e: cosθ = (u·v) =   -0.11065666703449763\n",
      "f. cosα = (v·w) =   0.36140316116210053\n",
      "g. cosβ = (u·w) =   -0.6998542122237653\n",
      "h. d(u,v) =  7.874007874011811\n",
      "i. d(w,v) =  5.744562646538029\n",
      "j. d(u,w) =  7.681145747868608\n",
      "k. proj(u, v) =  [-0.25714286 -0.42857143 -0.08571429]\n",
      "l. proj(w, v) =  [0.68571429 1.14285714 0.22857143]\n",
      "m. proj(u, w) =  [-1.71428571 -0.85714286  2.57142857]\n"
     ]
    }
   ],
   "source": [
    "import numpy as np\n",
    "\n",
    "# Declare vectors as array\n",
    "u = np.array([1, -2, 4])\n",
    "v = np.array([3, 5, 1])\n",
    "w = np.array([2, 1, -3])\n",
    "\n",
    "# a. \n",
    "print(\"a:\", (3*u) - (2*v))\n",
    "\n",
    "# b.\n",
    "print(\"b:\", (5*u) + (3*v) - (4*w))\n",
    "\n",
    "# c.\n",
    "print(\"c: u.v = \", u.dot(v))\n",
    "print(\"c: u.w = \", v.dot(w))\n",
    "print(\"c: v.w = \", u.dot(w))\n",
    "\n",
    "# d\n",
    "print(\"d: ||u||, ||v||, ||w|| = \", np.sqrt(u.dot(u)),\", \", np.sqrt(v.dot(v)),\", \", np.sqrt(w.dot(w)))\n",
    "\n",
    "# e\n",
    "print(\"e: cosθ = (u·v) =  \", u.dot(v) / (np.linalg.norm(u) * np.linalg.norm(v)))\n",
    "\n",
    "# f\n",
    "print(\"f. cosα = (v·w) =  \", v.dot(w) / (np.linalg.norm(v) * np.linalg.norm(w)))\n",
    "\n",
    "# g\n",
    "print(\"g. cosβ = (u·w) =  \", u.dot(w) / (np.linalg.norm(u) * np.linalg.norm(w)))\n",
    "\n",
    "# h\n",
    "print(\"h. d(u,v) = \", np.linalg.norm(u-v))\n",
    "\n",
    "# i\n",
    "print(\"i. d(w,v) = \", np.linalg.norm(w-v))\n",
    "\n",
    "# j\n",
    "print(\"j. d(u,w) = \", np.linalg.norm(u-w))\n",
    "\n",
    "# k\n",
    "print(\"k. proj(u, v) = \", u.dot(v)*v/(np.linalg.norm(v)**2))\n",
    "\n",
    "# l\n",
    "print(\"l. proj(w, v) = \", w.dot(v)*v/(np.linalg.norm(v)**2))\n",
    "\n",
    "# m\n",
    "print(\"m. proj(u, w) = \", u.dot(w)*w/(np.linalg.norm(w)**2))"
   ]
  },
  {
   "cell_type": "markdown",
   "metadata": {},
   "source": [
    "2. Repeat problem 1 with the following column vectors:\n",
    "\\begin{align}\n",
    "    \\textbf{u} &= \\begin{bmatrix}\n",
    "           1 \\\\\n",
    "           3 \\\\\n",
    "           -4\n",
    "         \\end{bmatrix}, \\textbf{v} = \\begin{bmatrix}\n",
    "           2 \\\\\n",
    "           1 \\\\\n",
    "           5\n",
    "         \\end{bmatrix}, \\textbf{w} = \\begin{bmatrix}\n",
    "           3 \\\\\n",
    "           -2 \\\\\n",
    "           6\n",
    "         \\end{bmatrix}\n",
    "  \\end{align}"
   ]
  },
  {
   "cell_type": "markdown",
   "metadata": {},
   "source": [
    "### Manual"
   ]
  },
  {
   "cell_type": "markdown",
   "metadata": {},
   "source": [
    "a. $3\\textbf{u}-2\\textbf{v}$ \n",
    "\n",
    "\\begin{align}\n",
    "   \\textbf{3u}-\\textbf{2v} &= \\textbf{3}\n",
    "       \\begin{bmatrix}\n",
    "           1 \\\\\n",
    "           3 \\\\\n",
    "           -4\n",
    "        \\end{bmatrix} - \n",
    "        \\textbf{2}\n",
    "        \\begin{bmatrix}\n",
    "            2 \\\\\n",
    "            1 \\\\\n",
    "            5\n",
    "        \\end{bmatrix} =\n",
    "        \\begin{bmatrix}\n",
    "            3 \\\\\n",
    "            9 \\\\\n",
    "            -12 \n",
    "        \\end{bmatrix} -\n",
    "        \\begin{bmatrix}\n",
    "            4 \\\\\n",
    "            2 \\\\\n",
    "            10\n",
    "        \\end{bmatrix} =\n",
    "        \\begin{bmatrix}\n",
    "            -1 \\\\ \n",
    "            7 \\\\\n",
    "            -22\n",
    "        \\end{bmatrix}\n",
    "\\end{align}"
   ]
  },
  {
   "cell_type": "markdown",
   "metadata": {},
   "source": [
    "b. $5\\textbf{u}+3\\textbf{v}-4\\textbf{w}$ \n",
    "\n",
    "\\begin{align}\n",
    "    = \\textbf{5}\n",
    "    \\begin{bmatrix}\n",
    "        1 \\\\\n",
    "        3 \\\\\n",
    "        -4\n",
    "    \\end{bmatrix} +\n",
    "    \\textbf{3}\n",
    "    \\begin{bmatrix}\n",
    "        2 \\\\\n",
    "        1 \\\\ \n",
    "        5\n",
    "    \\end{bmatrix} -\n",
    "    \\textbf{4}\n",
    "    \\begin{bmatrix}\n",
    "        3 \\\\\n",
    "        -2 \\\\ \n",
    "        6\n",
    "    \\end{bmatrix}\n",
    "\\end{align}\n",
    "\n",
    "\\begin{align}\n",
    "    =\n",
    "    \\begin{bmatrix}\n",
    "        5 \\\\\n",
    "        15 \\\\\n",
    "        -20\n",
    "    \\end{bmatrix} +\n",
    "    \\begin{bmatrix}\n",
    "        6 \\\\\n",
    "        3 \\\\ \n",
    "        15\n",
    "    \\end{bmatrix} -\n",
    "    \\begin{bmatrix}\n",
    "        12 \\\\\n",
    "        -8 \\\\ \n",
    "        24\n",
    "    \\end{bmatrix}\n",
    "\\end{align}\n",
    "\n",
    "\\begin{align}\n",
    "    =\n",
    "    \\begin{bmatrix}\n",
    "        -1 \\\\\n",
    "        26 \\\\\n",
    "        -29\n",
    "    \\end{bmatrix}\n",
    "\\end{align}"
   ]
  },
  {
   "cell_type": "markdown",
   "metadata": {},
   "source": [
    "c. $\\textbf{u} \\cdotp \\textbf{v}$,$\\textbf{v} \\cdotp \\textbf{w}$, $\\textbf{u} \\cdotp \\textbf{w}$\n",
    "\n",
    "u $\\cdot$ v = 1(2) + 3(1) + -4(5) = -15 <br>\n",
    "v $\\cdot$ w = 2(3) + 1(-2) + 5(6) = 34 <br>\n",
    "u $\\cdot$ w = 1(3) + 3(-2) + -4(6) = -27 <br>"
   ]
  },
  {
   "cell_type": "markdown",
   "metadata": {},
   "source": [
    "d. $\\textbf{||u||},\\textbf{||v||},\\textbf{||w||}$ \n",
    "\n"
   ]
  },
  {
   "cell_type": "markdown",
   "metadata": {},
   "source": [
    "\\begin{align}\n",
    "\\textbf{||u||} =\n",
    "\\sqrt{u \\cdotp u} = \n",
    "\\sqrt{1^2 + 3^2 + -4^2} =\n",
    "\\sqrt{1 + 9 + 16} = \n",
    "\\sqrt{26}\n",
    "\\end{align}\n",
    "\n",
    "\\begin{align}\n",
    "\\textbf{||v||} =\n",
    "\\sqrt{v \\cdotp v} = \n",
    "\\sqrt{2^2 + 1^2 + 5^2} =\n",
    "\\sqrt{4 + 1 + 25} = \n",
    "\\sqrt{30}\n",
    "\\end{align}\n",
    "\n",
    "\\begin{align}\n",
    "\\textbf{||w||} =\n",
    "\\sqrt{w \\cdotp w} = \n",
    "\\sqrt{3^2 + 2^2 + -6^2} =\n",
    "\\sqrt{9 + 4 + 36} = \n",
    "\\sqrt{49}\n",
    "\\end{align}"
   ]
  },
  {
   "cell_type": "markdown",
   "metadata": {},
   "source": [
    "e. If $\\theta$ is the angle between $\\textbf{u}$  and   $\\textbf{v}$, find $\\cos{\\theta}$.<br>"
   ]
  },
  {
   "cell_type": "markdown",
   "metadata": {},
   "source": [
    "\\begin{align}\n",
    "    \\cos{\\theta} = \n",
    "    \\frac{\\textbf{u} \\cdotp \\textbf{v}}{||\\textbf{u}|| \\ ||\\textbf{v}||} =\n",
    "    \\frac{1(2)+3(1)+-4(5)}{\\sqrt{(1)^2+(3)^2+(-4)^2}\\sqrt{(2)^2+(1)^2+(5)^2}} =\n",
    "    \\frac{-15}{\\sqrt{26}\\sqrt{30}}\n",
    "\\end{align}"
   ]
  },
  {
   "cell_type": "markdown",
   "metadata": {},
   "source": [
    "f. If $\\alpha$ is the angle between $\\textbf{v}$  and   $\\textbf{w}$, find $\\cos{\\alpha}$.<br>"
   ]
  },
  {
   "cell_type": "markdown",
   "metadata": {},
   "source": [
    "\\begin{align}\n",
    "    \\cos{\\alpha} = \n",
    "    \\frac{\\textbf{v} \\cdotp \\textbf{w}}{||\\textbf{v}|| \\ ||\\textbf{w}||} =\n",
    "    \\frac{2(3)+1(-2)+5(6)}{\\sqrt{(2)^2+(1)^2+(5)^2}\\sqrt{(3)^2+(-2)^2+(6)^2}} = \n",
    "    \\frac{34}{\\sqrt{30}\\sqrt{49}}\n",
    "\\end{align}"
   ]
  },
  {
   "cell_type": "markdown",
   "metadata": {},
   "source": [
    "2. Repeat problem 1 with the following column vectors:\n",
    "\\begin{align}\n",
    "    \\textbf{u} &= \\begin{bmatrix}\n",
    "           1 \\\\\n",
    "           3 \\\\\n",
    "           -4\n",
    "         \\end{bmatrix}, \\textbf{v} = \\begin{bmatrix}\n",
    "           2 \\\\\n",
    "           1 \\\\\n",
    "           5\n",
    "         \\end{bmatrix}, \\textbf{w} = \\begin{bmatrix}\n",
    "           3 \\\\\n",
    "           -2 \\\\\n",
    "           6\n",
    "         \\end{bmatrix}\n",
    "  \\end{align}"
   ]
  },
  {
   "cell_type": "markdown",
   "metadata": {},
   "source": [
    "g. If $\\beta$ is the angle between $\\textbf{u}$  and   $\\textbf{w}$, find $\\cos{\\beta}$.<br>\n",
    "\n",
    "\\begin{align}\n",
    "    \\cos{\\beta}=\n",
    "    \\frac{\\textbf{u} \\cdotp \\textbf{w}}{||\\textbf{u}|| \\ ||\\textbf{w}||} = \n",
    "    \\frac{1(3)+3(-2)+-4(6)}{ \\sqrt{(1)^2+3^2+(-4)^2}\\sqrt{(3)^2+(-2)^2+(6)^2}} = \n",
    "    \\frac{-27}{\\sqrt{26}\\sqrt{49}}\n",
    "\\end{align}"
   ]
  },
  {
   "cell_type": "markdown",
   "metadata": {},
   "source": [
    "h. Find $d(\\textbf{u},\\textbf{v})$\n",
    "\n",
    "\\begin{align}\n",
    "    d(\\textbf{u},\\textbf{v}) =\n",
    "    \\textbf{||u|| - ||v||} = \n",
    "    \\sqrt{(1 - 2)^2 + (3-1)^2 + ((-4)-5)^2} =\n",
    "    \\sqrt{1 + 4 + 81} = \n",
    "    \\sqrt{86}\n",
    "\\end{align}"
   ]
  },
  {
   "cell_type": "markdown",
   "metadata": {},
   "source": [
    "i. Find $d(\\textbf{w},\\textbf{v})$.<br>\n",
    "\\begin{align}\n",
    "    d(\\textbf{w},\\textbf{v}) = \n",
    "    ||\\textbf{w} - \\textbf{v}|| = \n",
    "    \\sqrt{(3-2)^2 + ((-2)-1)^2 + (6-5)^2} = \n",
    "    \\sqrt{1 + 9 + 1} = \n",
    "    \\sqrt{11}\n",
    "\\end{align}"
   ]
  },
  {
   "cell_type": "markdown",
   "metadata": {},
   "source": [
    "j. Find $d(\\textbf{u},\\textbf{w})$. <br>\n",
    "\\begin{align}\n",
    "    d(\\textbf{u},\\textbf{w}) = \n",
    "    ||\\textbf{u} - \\textbf{w}|| = \n",
    "    \\sqrt{(1-3)^2 + (3-(2))^2 + ((-4)-6^2} = \n",
    "    \\sqrt{4 + 25 + 100} = \n",
    "    \\sqrt{129}\n",
    "\\end{align}"
   ]
  },
  {
   "cell_type": "markdown",
   "metadata": {},
   "source": [
    "k. Find $proj(\\textbf{u},\\textbf{v})$.<br>\n",
    "\\begin{align}\n",
    "    proj(\\textbf{u},\\textbf{v}) =\n",
    "    \\frac{\\textbf{u} \\cdotp \\textbf{v}}{||\\textbf{v}||^2} \\textbf{v} =\n",
    "    \\frac{-15}{(\\sqrt{30})^2}(2,1,5) =\n",
    "    \\frac{-15}{30}(2,1,5) =\n",
    "    \\frac{-1}{2}(2,1,5) = \n",
    "    (\\frac{-2}{2},\\frac{-1}{2},\\frac{-5}{2})\n",
    "\\end{align}"
   ]
  },
  {
   "cell_type": "markdown",
   "metadata": {},
   "source": [
    "l. Find $proj(\\textbf{w},\\textbf{v})$.<br>\n",
    "\n",
    "\\begin{align}\n",
    "    proj(\\textbf{w},\\textbf{v}) =\n",
    "    \\frac{\\textbf{w} \\cdotp \\textbf{v}}{||\\textbf{v}||^2} \\textbf{v} =\n",
    "    \\frac{34}{(\\sqrt{30})^2}(2,1,5) =\n",
    "    \\frac{34}{30}(2,1,5) =\n",
    "    (\\frac{68}{30},\\frac{34}{30},\\frac{170}{30})\n",
    "\\end{align}"
   ]
  },
  {
   "cell_type": "markdown",
   "metadata": {},
   "source": [
    "m. Find $proj(\\textbf{u},\\textbf{w})$. <br> \n",
    "\\begin{align}\n",
    "    proj(\\textbf{u},\\textbf{w}) =\n",
    "    \\frac{\\textbf{u} \\cdotp \\textbf{w}}{||\\textbf{w}||^2} \\textbf{w} =\n",
    "    \\frac{-27}{(\\sqrt{49})^2}(3,-2,6) =\n",
    "    \\frac{-27}{49}(3,-2,6) =\n",
    "    (\\frac{-81}{49},\\frac{54}{49},\\frac{-162}{49})\n",
    "\\end{align}"
   ]
  },
  {
   "cell_type": "markdown",
   "metadata": {},
   "source": [
    "### Pythonic\n"
   ]
  },
  {
   "cell_type": "code",
   "execution_count": 2,
   "metadata": {},
   "outputs": [
    {
     "name": "stdout",
     "output_type": "stream",
     "text": [
      "a: [ -1   7 -22]\n",
      "b: [ -1  26 -29]\n",
      "c: u.v =  -15\n",
      "c: u.w =  34\n",
      "c: v.w =  -27\n",
      "d: ||u||, ||v||, ||w|| =  5.0990195135927845 ,  5.477225575051661 ,  7.0\n",
      "e: cosθ = (u·v) =   -0.5370861555295747\n",
      "f. cosα = (v·w) =   0.8867889026274118\n",
      "g. cosβ = (u·w) =   -0.7564479498187099\n",
      "h. d(u,v) =  9.273618495495704\n",
      "i. d(w,v) =  3.3166247903554\n",
      "j. d(u,w) =  11.357816691600547\n",
      "k. proj(u, v) =  [-1.  -0.5 -2.5]\n",
      "l. proj(w, v) =  [2.26666667 1.13333333 5.66666667]\n",
      "m. proj(u, w) =  [-1.65306122  1.10204082 -3.30612245]\n"
     ]
    }
   ],
   "source": [
    "import numpy as np\n",
    "# Declare vectors as array\n",
    "u = np.array([1, 3, -4])\n",
    "v = np.array([2, 1, 5])\n",
    "w = np.array([3, -2, 6])\n",
    "\n",
    "# a. \n",
    "print(\"a:\", (3*u) - (2*v))\n",
    "\n",
    "# b.\n",
    "print(\"b:\", (5*u) + (3*v) - (4*w))\n",
    "\n",
    "# c.\n",
    "print(\"c: u.v = \", u.dot(v))\n",
    "print(\"c: u.w = \", v.dot(w))\n",
    "print(\"c: v.w = \", u.dot(w))\n",
    "\n",
    "# d\n",
    "print(\"d: ||u||, ||v||, ||w|| = \", np.sqrt(u.dot(u)),\", \", np.sqrt(v.dot(v)),\", \", np.sqrt(w.dot(w)))\n",
    "\n",
    "# e\n",
    "print(\"e: cosθ = (u·v) =  \", u.dot(v) / (np.linalg.norm(u) * np.linalg.norm(v)))\n",
    "\n",
    "# f\n",
    "print(\"f. cosα = (v·w) =  \", v.dot(w) / (np.linalg.norm(v) * np.linalg.norm(w)))\n",
    "\n",
    "# g\n",
    "print(\"g. cosβ = (u·w) =  \", u.dot(w) / (np.linalg.norm(u) * np.linalg.norm(w)))\n",
    "\n",
    "# h\n",
    "print(\"h. d(u,v) = \", np.linalg.norm(u-v))\n",
    "\n",
    "# i\n",
    "print(\"i. d(w,v) = \", np.linalg.norm(w-v))\n",
    "\n",
    "# j\n",
    "print(\"j. d(u,w) = \", np.linalg.norm(u-w))\n",
    "\n",
    "# k\n",
    "print(\"k. proj(u, v) = \", u.dot(v)*v/(np.linalg.norm(v)**2))\n",
    "\n",
    "# l\n",
    "print(\"l. proj(w, v) = \", w.dot(v)*v/(np.linalg.norm(v)**2))\n",
    "\n",
    "# m\n",
    "print(\"m. proj(u, w) = \", u.dot(w)*w/(np.linalg.norm(w)**2))"
   ]
  },
  {
   "cell_type": "markdown",
   "metadata": {},
   "source": [
    "3. Let $\\textbf{u} = (2,-5,4,6,-3)$, $\\textbf{v} = (5,-2,1,-7,-4)$, and $\\textbf{w} = (2,1,-3)$ find:<br>\n"
   ]
  },
  {
   "cell_type": "markdown",
   "metadata": {},
   "source": [
    "### Manual\n"
   ]
  },
  {
   "cell_type": "markdown",
   "metadata": {},
   "source": [
    "a. $4\\textbf{u}-3\\textbf{v}$<br>"
   ]
  },
  {
   "cell_type": "markdown",
   "metadata": {},
   "source": [
    "\\begin{align}\n",
    "    4\\begin{bmatrix}\n",
    "        2 \\\\\n",
    "        -5 \\\\\n",
    "        4 \\\\ \n",
    "        6 \\\\\n",
    "        -3\n",
    "    \\end{bmatrix} - 3\n",
    "    \\begin{bmatrix}\n",
    "        5 \\\\\n",
    "        -2 \\\\\n",
    "        1 \\\\\n",
    "        -7 \\\\\n",
    "        -4\n",
    "    \\end{bmatrix} = \n",
    "    \\begin{bmatrix}\n",
    "        8 \\\\\n",
    "        -20 \\\\\n",
    "        16 \\\\\n",
    "        24 \\\\\n",
    "        -12\n",
    "    \\end{bmatrix} - \n",
    "    \\begin{bmatrix}\n",
    "        15 \\\\\n",
    "        -6 \\\\\n",
    "        3 \\\\\n",
    "        21 \\\\\n",
    "        -12\n",
    "    \\end{bmatrix} = \n",
    "    \\begin{bmatrix}\n",
    "        -7 \\\\\n",
    "        -14 \\\\\n",
    "        13 \\\\\n",
    "        45 \\\\\n",
    "        -0\n",
    "    \\end{bmatrix}\n",
    "\\end{align}"
   ]
  },
  {
   "cell_type": "markdown",
   "metadata": {},
   "source": [
    "b. $5\\textbf{u}+2\\textbf{v}-2\\textbf{w}$ <br>"
   ]
  },
  {
   "cell_type": "markdown",
   "metadata": {},
   "source": [
    "\\begin{align}\n",
    "    5 \\begin{bmatrix}\n",
    "        2 \\\\\n",
    "        -5 \\\\\n",
    "        4 \\\\ \n",
    "        6 \\\\\n",
    "        -3\n",
    "    \\end{bmatrix} + 2\n",
    "    \\begin{bmatrix}\n",
    "        5 \\\\\n",
    "        -2 \\\\\n",
    "        1 \\\\\n",
    "        -7 \\\\\n",
    "        -4\n",
    "    \\end{bmatrix} - 2 \n",
    "    \\begin{bmatrix}\n",
    "        2 \\\\\n",
    "        1 \\\\\n",
    "        -3 \\\\\n",
    "        0 \\\\\n",
    "        0\n",
    "    \\end{bmatrix} = \n",
    "    \\begin{bmatrix}\n",
    "        10 \\\\\n",
    "        -25 \\\\\n",
    "        20 \\\\ \n",
    "        30 \\\\\n",
    "        -15\n",
    "    \\end{bmatrix} +\n",
    "    \\begin{bmatrix}\n",
    "        10 \\\\\n",
    "        -4 \\\\\n",
    "        2 \\\\ \n",
    "        -14 \\\\\n",
    "        -8\n",
    "    \\end{bmatrix} - \n",
    "    \\begin{bmatrix}\n",
    "        4 \\\\ \n",
    "        2 \\\\ \n",
    "        -6 \\\\ \n",
    "        0 \\\\ \n",
    "        0\n",
    "    \\end{bmatrix} =\n",
    "    \\begin{bmatrix}\n",
    "        16 \\\\ \n",
    "        -31 \\\\ \n",
    "        28 \\\\ \n",
    "        16 \\\\\n",
    "        -23\n",
    "    \\end{bmatrix}\n",
    "\\end{align}"
   ]
  },
  {
   "cell_type": "markdown",
   "metadata": {},
   "source": [
    "c. $\\textbf{u} \\cdotp \\textbf{v}$,$\\textbf{v} \\cdotp \\textbf{w}$, $\\textbf{u} \\cdotp \\textbf{w}$\n",
    "<br>\n",
    "      u $\\cdot$ v = (2)(5) + (-5)(-2) + (4)(1) + (6)(-7) + (-3)(-4) = -6 <br>\n",
    "      v $\\cdot$ w = (5)(2) + (-2)(1) + (1)(-3) + (-7)(0) + (-4)(0) = 5 <br>\n",
    "      u $\\cdot$ w = (2)(2) + (-5)(1) + (4)(-3) + (6)(0) + (-3)(0) = -13 <br>"
   ]
  },
  {
   "cell_type": "markdown",
   "metadata": {},
   "source": [
    "d. $\\textbf{||u||},\\textbf{||v||},\\textbf{||w||}$ \n"
   ]
  },
  {
   "cell_type": "markdown",
   "metadata": {},
   "source": [
    "\\begin{align}\n",
    "    \\textbf{||u||} = \n",
    "    \\sqrt{u \\cdotp u} = \n",
    "    \\sqrt{(2)^2+(-5)^2+(4)^2+(6)^2+(-3)^2} =\n",
    "    \\sqrt{4 + 25 + 16 + 36 + 9} = \n",
    "    \\sqrt{90}\n",
    "\\end{align}\n"
   ]
  },
  {
   "cell_type": "markdown",
   "metadata": {},
   "source": [
    "\\begin{align}\n",
    "    \\textbf{||v||} = \n",
    "    \\sqrt{v \\cdotp v} = \n",
    "    \\sqrt{(5)^2+(-2)^2+(1)^2+(-7)^2+(-4)^2} =\n",
    "    \\sqrt{25 + 4 + 1 + 49 + 16} = \n",
    "    \\sqrt{95}\n",
    "\\end{align}\n"
   ]
  },
  {
   "cell_type": "markdown",
   "metadata": {},
   "source": [
    "\\begin{align}\n",
    "    \\textbf{||w||} = \n",
    "    \\sqrt{w \\cdotp w} = \n",
    "    \\sqrt{(2)^2+(1)^2+(-3)^2+(0)^2+(0)^2} =\n",
    "    \\sqrt{4 + 1 + 9 + 0 + 0} = \n",
    "    \\sqrt{14}\n",
    "\\end{align}\n"
   ]
  },
  {
   "cell_type": "markdown",
   "metadata": {},
   "source": [
    "e. If $\\theta$ is the angle between $\\textbf{u}$  and   $\\textbf{v}$, find $\\cos{\\theta}$.<br>\n",
    "\n",
    "\\begin{align}\n",
    "    \\cos{\\theta} = \n",
    "    \\frac{\\textbf{u} \\cdotp \\textbf{v}}{||\\textbf{u}|| \\ ||\\textbf{v}||} =\n",
    "    \\frac{2(5)+(-5)(-2)+4(1)+6(-7)+(-3)(-4)}{\\sqrt{(2)^2+(-5)^2+(4)^2+(6)^2+(3)^2}\\sqrt{(5)^2+(-2)^2+(1)^2+(-7)^2+(-4)^2}} =\n",
    "    \\frac{-6}{\\sqrt{90}\\sqrt{95}}\n",
    "\\end{align}"
   ]
  },
  {
   "cell_type": "markdown",
   "metadata": {},
   "source": [
    "f. If $\\alpha$ is the angle between $\\textbf{v}$  and   $\\textbf{w}$, find $\\cos{\\alpha}$.<br>\n",
    "\n",
    "\\begin{align}\n",
    "    \\cos{\\alpha} = \n",
    "    \\frac{\\textbf{v} \\cdotp \\textbf{w}}{||\\textbf{v}|| \\ ||\\textbf{w}||} =\n",
    "    \\frac{5(2)+(-2)1+1(-3)+(-7)(-0)+(-4)(0)}{\\sqrt{(5)^2+(-2)^2+(1)^2+(-7)^2+(-4)^2}\\sqrt{(2)^2+(1)^2+(3)^2+(0)^2+(0)^2}} =\n",
    "    \\frac{-5}{\\sqrt{95}\\sqrt{14}}\n",
    "\\end{align}"
   ]
  },
  {
   "cell_type": "markdown",
   "metadata": {},
   "source": [
    "g. If $\\beta$ is the angle between $\\textbf{u}$  and   $\\textbf{w}$, find $\\cos{\\beta}$\n",
    "\n",
    "\\begin{align}\n",
    "    \\cos{\\beta} = \n",
    "    \\frac{\\textbf{u} \\cdotp \\textbf{w}}{||\\textbf{u}|| \\ ||\\textbf{w}||} =\n",
    "    \\frac{2(2)+(-5)(1)+4(-3)+6(0)+(-3)(0)}{\\sqrt{(2)^2+(-5)^2+(4)^2+(6)^2+(3)^2}\\sqrt{(2)^2+(1)^2+(3)^2+(0)^2+(0)^2}} =\n",
    "    \\frac{-13}{\\sqrt{90}\\sqrt{14}}\n",
    "\\end{align}"
   ]
  },
  {
   "cell_type": "markdown",
   "metadata": {},
   "source": [
    "h. Find $d(\\textbf{u},\\textbf{v})$."
   ]
  },
  {
   "cell_type": "markdown",
   "metadata": {},
   "source": [
    "\\begin{align}\n",
    "    d(\\textbf{u},\\textbf{v}) = \n",
    "    ||\\textbf{u} - \\textbf{v}|| = \n",
    "    \\sqrt{(2-5)^2 + ((−5 − (−2))^2 + (4-1)^2 + (6-(-7))^2 + (-3-(-4))^2} = \n",
    "    \\sqrt{9 + 9 + 9 + 169 + 1} = \n",
    "    \\sqrt{197}\n",
    "\\end{align}"
   ]
  },
  {
   "cell_type": "markdown",
   "metadata": {},
   "source": [
    "i. Find $d(\\textbf{w},\\textbf{v})$\n",
    "\n",
    "\\begin{align}\n",
    "    d(\\textbf{w},\\textbf{v}) = \n",
    "    ||\\textbf{w} - \\textbf{v}|| = \n",
    "    \\sqrt{(2-5)^2 + ((1 − (−2))^2 + (-3-1)^2 + (0-(-7))^2 + (0-(-4))^2} = \n",
    "    \\sqrt{9 + 9 + 16 + 49 + 16} = \n",
    "    \\sqrt{99}\n",
    "\\end{align}"
   ]
  },
  {
   "cell_type": "markdown",
   "metadata": {},
   "source": [
    "j. Find $d(\\textbf{u},\\textbf{w})$\n",
    "\n",
    "\\begin{align}\n",
    "    d(\\textbf{u},\\textbf{w}) = \n",
    "    ||\\textbf{u} - \\textbf{w}|| = \n",
    "    \\sqrt{(2-2)^2 + (-5 − 1)^2 + (4 - -3)^2 + (6 - 0)^2 + (-3-0)^2} = \n",
    "    \\sqrt{0 + 36 + 49 + 36 + 9} = \n",
    "    \\sqrt{130}\n",
    "\\end{align}"
   ]
  },
  {
   "cell_type": "markdown",
   "metadata": {},
   "source": [
    "k. Find $proj(\\textbf{u},\\textbf{v})$\n",
    "\n",
    "\\begin{align}\n",
    "    proj(\\textbf{u},\\textbf{v}) =\n",
    "    \\frac{\\textbf{u} \\cdotp \\textbf{v}}{||\\textbf{v}||^2} \\textbf{v} =\n",
    "    \\frac{-6}{(\\sqrt{95})^2}(5, -2, 1, -7, -4) =\n",
    "    \\frac{-6}{95}(5, -2, 1, -7, -4) =\n",
    "    \\frac{-6}{95}(5, -2, 1, -7, -4) = \n",
    "    (\\frac{-30}{95},\\frac{12}{95},\\frac{-6}{95}\\frac{42}{95}\\frac{24}{95})\n",
    "\\end{align}"
   ]
  },
  {
   "cell_type": "markdown",
   "metadata": {},
   "source": [
    "l. Find $proj(\\textbf{w},\\textbf{v})$.\n",
    "\n",
    "\\begin{align}\n",
    "    proj(\\textbf{w},\\textbf{v}) =\n",
    "    \\frac{\\textbf{w} \\cdotp \\textbf{v}}{||\\textbf{v}||^2} \\textbf{v} =\n",
    "    \\frac{5}{(\\sqrt{95})^2}(5, -2, 1, -7, -4) =\n",
    "    \\frac{5}{95}(5, -2, 1, -7, -4) =\n",
    "    \\frac{1}{19}(5, -2, 1, -7, -4) =\n",
    "    (\\frac{5}{19},\\frac{-2}{19},\\frac{1}{19}, \\frac{-7}{19}, \\frac{-4}{19})\n",
    "\\end{align}"
   ]
  },
  {
   "cell_type": "markdown",
   "metadata": {},
   "source": [
    "m. Find $proj(\\textbf{u},\\textbf{w})$."
   ]
  },
  {
   "cell_type": "markdown",
   "metadata": {},
   "source": [
    "\\begin{align}\n",
    "    5 \\begin{bmatrix}\n",
    "        2 \\\\\n",
    "        -5 \\\\\n",
    "        4 \\\\ \n",
    "        6 \\\\\n",
    "        -3\n",
    "    \\end{bmatrix} + 2\n",
    "    \\begin{bmatrix}\n",
    "        5 \\\\\n",
    "        -2 \\\\\n",
    "        1 \\\\\n",
    "        -7 \\\\\n",
    "        -4\n",
    "    \\end{bmatrix} - 2 \n",
    "    \\begin{bmatrix}\n",
    "        2 \\\\\n",
    "        1 \\\\\n",
    "        -3 \\\\\n",
    "        0 \\\\\n",
    "        0\n",
    "    \\end{bmatrix} = \n",
    "    \\begin{bmatrix}\n",
    "        10 \\\\\n",
    "        -25 \\\\\n",
    "        20 \\\\ \n",
    "        30 \\\\\n",
    "        -15\n",
    "    \\end{bmatrix} +\n",
    "    \\begin{bmatrix}\n",
    "        10 \\\\\n",
    "        -4 \\\\\n",
    "        2 \\\\ \n",
    "        -14 \\\\\n",
    "        -8\n",
    "    \\end{bmatrix} - \n",
    "    \\begin{bmatrix}\n",
    "        4 \\\\ \n",
    "        2 \\\\ \n",
    "        -6 \\\\ \n",
    "        0 \\\\ \n",
    "        0\n",
    "    \\end{bmatrix} =\n",
    "    \\begin{bmatrix}\n",
    "        16 \\\\ \n",
    "        -31 \\\\ \n",
    "        28 \\\\ \n",
    "        16 \\\\\n",
    "        -23\n",
    "    \\end{bmatrix}\n",
    "\\end{align}"
   ]
  },
  {
   "cell_type": "markdown",
   "metadata": {},
   "source": [
    "\\begin{align}\n",
    "    proj(\\textbf{u},\\textbf{w}) =\n",
    "    \\frac{\\textbf{u} \\cdotp \\textbf{w}}{||\\textbf{w}||^2} \\textbf{w} =\n",
    "    \\frac{-13}{(\\sqrt{14})^2}(2,1,-3) =\n",
    "    \\frac{-13}{14}(2,1,-3) =\n",
    "    (\\frac{-26}{14},\\frac{-13}{14},\\frac{39}{14})\n",
    "\\end{align}"
   ]
  },
  {
   "cell_type": "markdown",
   "metadata": {},
   "source": [
    "### Pythonic"
   ]
  },
  {
   "cell_type": "code",
   "execution_count": 26,
   "metadata": {},
   "outputs": [
    {
     "name": "stdout",
     "output_type": "stream",
     "text": [
      "a: [ -7 -14  13  45   0]\n",
      "b: [ 16 -31  28  16 -23]\n",
      "c: u.v =  -6\n",
      "c: u.w =  5\n",
      "c: v.w =  -13\n",
      "d: ||u||, ||v||, ||w|| =  9.486832980505138 ,  9.746794344808963 ,  3.7416573867739413\n",
      "e: cosθ = (u·v) =   -0.06488856845230502\n",
      "f. cosα = (v·w) =   0.13710212427677046\n",
      "g. cosβ = (u·w) =   -0.3662335103823572\n",
      "h. d(u,v) =  14.035668847618199\n",
      "i. d(w,v) =  9.9498743710662\n",
      "j. d(u,w) =  11.40175425099138\n",
      "k. proj(u, v) =  [-0.31578947  0.12631579 -0.06315789  0.44210526  0.25263158]\n",
      "l. proj(w, v) =  [ 0.26315789 -0.10526316  0.05263158 -0.36842105 -0.21052632]\n",
      "m. proj(u, w) =  [-1.85714286 -0.92857143  2.78571429  0.          0.        ]\n"
     ]
    }
   ],
   "source": [
    "import numpy as np\n",
    "# Declare vectors as array\n",
    "u = np.array([2, -5, 4, 6, -3])\n",
    "v = np.array([5, -2, 1, -7, -4])\n",
    "w = np.array([2, 1, -3, 0, 0])\n",
    "\n",
    "# a. \n",
    "print(\"a:\", (4*u) - (3*v))\n",
    "\n",
    "# b.\n",
    "print(\"b:\", (5*u) + (2*v) - (2*w))\n",
    "\n",
    "# c.\n",
    "print(\"c: u.v = \", u.dot(v))\n",
    "print(\"c: u.w = \", v.dot(w))\n",
    "print(\"c: v.w = \", u.dot(w))\n",
    "\n",
    "# d\n",
    "print(\"d: ||u||, ||v||, ||w|| = \", np.sqrt(u.dot(u)),\", \", np.sqrt(v.dot(v)),\", \", np.sqrt(w.dot(w)))\n",
    "\n",
    "# e\n",
    "print(\"e: cosθ = (u·v) =  \", u.dot(v) / (np.linalg.norm(u) * np.linalg.norm(v)))\n",
    "\n",
    "# f\n",
    "print(\"f. cosα = (v·w) =  \", v.dot(w) / (np.linalg.norm(v) * np.linalg.norm(w)))\n",
    "\n",
    "# g\n",
    "print(\"g. cosβ = (u·w) =  \", u.dot(w) / (np.linalg.norm(u) * np.linalg.norm(w)))\n",
    "\n",
    "# h\n",
    "print(\"h. d(u,v) = \", np.linalg.norm(u-v))\n",
    "\n",
    "# i\n",
    "print(\"i. d(w,v) = \", np.linalg.norm(w-v))\n",
    "\n",
    "# j\n",
    "print(\"j. d(u,w) = \", np.linalg.norm(u-w))\n",
    "\n",
    "# k\n",
    "print(\"k. proj(u, v) = \", u.dot(v)*v/(np.linalg.norm(v)**2))\n",
    "\n",
    "# l\n",
    "print(\"l. proj(w, v) = \", w.dot(v)*v/(np.linalg.norm(v)**2))\n",
    "\n",
    "# m\n",
    "print(\"m. proj(u, w) = \", u.dot(w)*w/(np.linalg.norm(w)**2))"
   ]
  },
  {
   "cell_type": "markdown",
   "metadata": {},
   "source": [
    "4. Normalize each vector:<br>\n",
    "a. $\\textbf{u}$ = (5,-7).<br>\n",
    "b. $\\textbf{v}$ = (1,2,-2,4).<br>\n",
    "c. $\\textbf{w} = (\\frac{1}{2},\\frac{-1}{3},\\frac{3}{4})$.<br>"
   ]
  },
  {
   "cell_type": "markdown",
   "metadata": {},
   "source": [
    "### Manual\n"
   ]
  },
  {
   "cell_type": "markdown",
   "metadata": {},
   "source": [
    "a. $\\textbf{u}$ = (5,-7).<br>"
   ]
  },
  {
   "cell_type": "markdown",
   "metadata": {},
   "source": [
    "\\begin{align}\n",
    "    \\textbf{||u||} =\n",
    "    \\sqrt{u \\cdotp u} =\n",
    "    \\sqrt{(5)^2 + (-7)^2} =\n",
    "    \\sqrt{74}\n",
    "\\end{align}\n",
    "\n",
    "\\begin{align}\n",
    "    u'=\\frac{u}{||u||} = \n",
    "    (\\frac{5}{\\sqrt{74}},\\frac{-7}{\\sqrt{74}})\n",
    "\\end{align}"
   ]
  },
  {
   "cell_type": "markdown",
   "metadata": {},
   "source": [
    "b. $\\textbf{v}$ = (1,2,-2,4)"
   ]
  },
  {
   "cell_type": "markdown",
   "metadata": {},
   "source": [
    "\\begin{align}\n",
    "    ||\\textbf{v}|| =\n",
    "    \\sqrt{\\textbf{v} \\cdotp \\textbf{v}} =\n",
    "    \\sqrt{(1)^2+(2)^2+(-2)^2+(4)^2} =\n",
    "    \\sqrt{25} =\n",
    "    5\n",
    "\\end{align}\n",
    "\\begin{align}\n",
    "    u' = \\frac{u}{||u||} =\n",
    "    (\\frac{1}{5}, \\frac{2}{5},\\frac{-2}{5},\\frac{4}{5})\n",
    "\\end{align}"
   ]
  },
  {
   "cell_type": "markdown",
   "metadata": {},
   "source": [
    "c. $\\textbf{w} = (\\frac{1}{2},\\frac{-1}{3},\\frac{3}{4})$"
   ]
  },
  {
   "cell_type": "markdown",
   "metadata": {},
   "source": [
    "\\begin{align}\n",
    "    ||\\textbf{v}|| =\n",
    "    \\sqrt{\\textbf{v} \\cdotp \\textbf{v}} =\n",
    "    \\sqrt{(\\frac{1}{2})^2+\\frac{-1}{3})^2+\\frac{3}{4})^2} =\n",
    "    \\sqrt{(\\frac{1}{4})+\\frac{1}{9})+\\frac{9}{16}} =\n",
    "    \\sqrt{\\frac{133}{144}}\n",
    "\\end{align}"
   ]
  },
  {
   "cell_type": "markdown",
   "metadata": {},
   "source": [
    "### Pythonic\n"
   ]
  },
  {
   "cell_type": "code",
   "execution_count": 30,
   "metadata": {},
   "outputs": [
    {
     "name": "stdout",
     "output_type": "stream",
     "text": [
      "||u||' =  [ 0.58123819 -0.81373347]\n",
      "||v||' =  [ 0.2  0.4 -0.4  0.8]\n",
      "||w||' =  [ 0.52026598 -0.34684399  0.78039897]\n"
     ]
    }
   ],
   "source": [
    "import numpy as np\n",
    "\n",
    "u = np.array([5,-7])\n",
    "v = np.array([1,2,-2,4])\n",
    "w = np.array([1/2,-1/3,3/4])\n",
    "\n",
    "print(\"||u||' = \", u / np.sqrt(u.dot(u)))\n",
    "print(\"||v||' = \", v / np.sqrt(v.dot(v)))\n",
    "print(\"||w||' = \", w / np.sqrt(w.dot(w)))"
   ]
  },
  {
   "cell_type": "markdown",
   "metadata": {},
   "source": [
    "5. Let $\\textbf{u} = (1,2,-2)$,$\\textbf{v} = (3,-12,4)$ and a scalar $k = -3$: <br>\n",
    "Find $||u||, ||v||, ||u+v||, ||ku||$.<br>"
   ]
  },
  {
   "cell_type": "markdown",
   "metadata": {},
   "source": [
    "$||u||$\n",
    "\\begin{align}\n",
    "    || u || = \n",
    "    \\sqrt{u \\cdotp u} =\n",
    "    \\sqrt{(1)^2 + (2)^2 + (-2)^2} =\n",
    "    \\sqrt{9} =\n",
    "    3\n",
    "\\end{align}"
   ]
  },
  {
   "cell_type": "markdown",
   "metadata": {},
   "source": [
    "$||v||$\n",
    "\\begin{align}\n",
    "    || u || = \n",
    "    \\sqrt{u \\cdotp u} =\n",
    "    \\sqrt{(3)^2 + (-12)^2 + (4)^2} =\n",
    "    \\sqrt{169} =\n",
    "    13\n",
    "\\end{align}"
   ]
  },
  {
   "cell_type": "markdown",
   "metadata": {},
   "source": [
    "$||u+v||$\n",
    "\\begin{align}\n",
    "    ||u+v|| =\n",
    "    \\sqrt{(u+v) \\cdotp (u+v)} =\n",
    "    \\sqrt{(1+3)^2+(2+(-12))^2+((-2)+4)^2} =\n",
    "    \\sqrt{16 + 100 + 4} = \n",
    "    \\sqrt{120}\n",
    "\\end{align}"
   ]
  },
  {
   "cell_type": "markdown",
   "metadata": {},
   "source": [
    "$||ku||$\n",
    "\\begin{align}\n",
    "    ||ku|| =\n",
    "    \\sqrt{ku*ku} =\n",
    "    \\sqrt{(-3*1)^2+(-3*2)^2+(-3*-2)^2} =\n",
    "    \\sqrt{(3)^2+(-6)^2+(6)^2} = \n",
    "    \\sqrt{9 + 36 + 36} = \n",
    "    \\sqrt{81} =\n",
    "    9\n",
    "\\end{align}"
   ]
  },
  {
   "cell_type": "markdown",
   "metadata": {},
   "source": [
    "### Pythonic"
   ]
  },
  {
   "cell_type": "code",
   "execution_count": 37,
   "metadata": {},
   "outputs": [
    {
     "name": "stdout",
     "output_type": "stream",
     "text": [
      "||u|| 3.0\n",
      "||v|| 13.0\n",
      "||u + v|| 10.954451150103322\n",
      "||ku|| 9.0\n"
     ]
    }
   ],
   "source": [
    "import numpy as np\n",
    "\n",
    "u = np.array([1,2,-2])\n",
    "v = np.array([3,-12,4])\n",
    "k = -3\n",
    "\n",
    "print(\"||u||\", np.sqrt(u.dot(u)))\n",
    "\n",
    "print(\"||v||\", np.sqrt(v.dot(v)))\n",
    "\n",
    "print(\"||u + v||\", np.linalg.norm(u+v))\n",
    "\n",
    "print(\"||ku||\", np.linalg.norm(k*u))"
   ]
  },
  {
   "cell_type": "markdown",
   "metadata": {},
   "source": [
    "6. Find k so that $\\textbf{u}  \\ and \\  \\textbf{v}$ are orthogonal.\n",
    "a. $\\textbf{u} = (3, k, -2), \\textbf{v} = (6, -4, -3)$.<br>\n",
    "b. $\\textbf{u} = (5,k,-4,2), \\textbf{v} = (1,-3,2,2k)$.<br>\n",
    "c. $\\textbf{u} = (1,7,k+2,-2), \\textbf{v} = (3, k, -3,k)$.<br>"
   ]
  },
  {
   "cell_type": "markdown",
   "metadata": {},
   "source": [
    "### Manual"
   ]
  },
  {
   "cell_type": "markdown",
   "metadata": {
    "jp-MarkdownHeadingCollapsed": true
   },
   "source": [
    "a. <br> \n",
    "$u * v$ <br>\n",
    "$u_1(v_1)+u_2(v_2)+u_3(v_3)$ <br>\n",
    "$3(6)+ k(-4) + -2(-3)$ <br>\n",
    "$18 -4k + 6$ <br>\n",
    "$4k = 18 + 6$ <br>\n",
    "$k = \\frac{24}{4}$ <br>\n",
    "$k = 6$\n",
    "\n",
    "b. <br>\n",
    "$u * v$ <br>\n",
    "$u_1(v_1)+u_2(v_2)+u_3(v_3)+u_4(v_4)$ <br>\n",
    "$5(1)+ k(-3) + -4(2) + 2(2k)$ <br>\n",
    "$5 - 3k - 8 + 4k$ <br>\n",
    "$4k-3k = 8 - 5$ <br>\n",
    "$k = 3$\n",
    "\n",
    "c.\n",
    "$u * v$ <br>\n",
    "$u_1(v_1)+u_2(v_2)+u_3(v_3)+u_4(v_4)$ <br>\n",
    "$1(3)+ 7(k) + (k+2)(-3) +(-2)(k)$ <br>\n",
    "$3 + 7k + (-3k-6) - 2k$ <br>\n",
    "$3 + 7k -3k -6 - 2k$ <br>\n",
    "$-7k+3k+2k = 3-6 $<br>\n",
    "$-2k = -3$<br>\n",
    "$k = \\frac{-3}{-2}$<br>\n",
    "$k = 1.5$<br>\n"
   ]
  },
  {
   "cell_type": "markdown",
   "metadata": {},
   "source": [
    "### Pythonic"
   ]
  },
  {
   "cell_type": "code",
   "execution_count": 40,
   "metadata": {},
   "outputs": [
    {
     "name": "stdout",
     "output_type": "stream",
     "text": [
      "u*v:  0.0\n"
     ]
    }
   ],
   "source": [
    "k = 3/2\n",
    "u = np.array([1, 7, k+2, -2])\n",
    "v = np.array([3, k, -3, k])\n",
    "\n",
    "print(\"u*v: \", u.dot(v))"
   ]
  }
 ],
 "metadata": {
  "kernelspec": {
   "display_name": "Python 3 (ipykernel)",
   "language": "python",
   "name": "python3"
  },
  "language_info": {
   "codemirror_mode": {
    "name": "ipython",
    "version": 3
   },
   "file_extension": ".py",
   "mimetype": "text/x-python",
   "name": "python",
   "nbconvert_exporter": "python",
   "pygments_lexer": "ipython3",
   "version": "3.11.5"
  }
 },
 "nbformat": 4,
 "nbformat_minor": 4
}
